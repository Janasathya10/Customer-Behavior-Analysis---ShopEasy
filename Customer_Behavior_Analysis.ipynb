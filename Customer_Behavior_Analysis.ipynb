{
 "cells": [
  {
   "cell_type": "code",
   "execution_count": 2,
   "id": "e1ffb250-e804-4274-b272-ad271a0abdac",
   "metadata": {},
   "outputs": [
    {
     "name": "stdout",
     "output_type": "stream",
     "text": [
      "Requirement already satisfied: pymysql in c:\\users\\elcot\\anaconda3\\lib\\site-packages (1.1.1)\n"
     ]
    }
   ],
   "source": [
    "#Installing pymysql\n",
    "!pip install pymysql"
   ]
  },
  {
   "cell_type": "code",
   "execution_count": 1,
   "id": "377464d0-2528-4a28-879a-5626b70cb15a",
   "metadata": {},
   "outputs": [],
   "source": [
    "#importing libraries\n",
    "import pandas as pd\n",
    "import numpy as np\n",
    "import pymysql"
   ]
  },
  {
   "cell_type": "code",
   "execution_count": 2,
   "id": "19dccebb-7f96-4bfd-845a-e790d466dbf9",
   "metadata": {},
   "outputs": [],
   "source": [
    "#Connecting python and mysql\n",
    "myconnection = pymysql.connect(host ='127.0.0.1',user='root',password ='Janasathy@15')"
   ]
  },
  {
   "cell_type": "code",
   "execution_count": 5,
   "id": "15a8c7a8-6aa9-4864-9844-417e304c7ee5",
   "metadata": {},
   "outputs": [
    {
     "data": {
      "text/plain": [
       "1"
      ]
     },
     "execution_count": 5,
     "metadata": {},
     "output_type": "execute_result"
    }
   ],
   "source": [
    "#Creating database in SQL\n",
    "myconnection.cursor().execute(\"Create database project_guvi\")"
   ]
  },
  {
   "cell_type": "code",
   "execution_count": 3,
   "id": "1b796020-820e-48c7-b7c6-87e366285c9a",
   "metadata": {},
   "outputs": [],
   "source": [
    "#view the dataframe\n",
    "df1 = pd.read_csv(\"D://Jana//Project_Guvi//Customer Behaviour Analysis//Docs//customer_journey.csv\")\n",
    "df2 = pd.read_csv(\"D://Jana//Project_Guvi//Customer Behaviour Analysis//Docs//customer_reviews.csv\")\n",
    "df3 = pd.read_csv(\"D://Jana//Project_Guvi//Customer Behaviour Analysis//Docs//customers.csv\")\n",
    "df4 = pd.read_csv(\"D://Jana//Project_Guvi//Customer Behaviour Analysis//Docs//engagement_data.csv\")\n",
    "df5 = pd.read_csv(\"D://Jana//Project_Guvi//Customer Behaviour Analysis//Docs//geography.csv\")\n",
    "df6 = pd.read_csv(\"D://Jana//Project_Guvi//Customer Behaviour Analysis//Docs//products.csv\")"
   ]
  },
  {
   "cell_type": "code",
   "execution_count": 20,
   "id": "bd78dae9-af4e-4a34-883a-87b8d7fcfc2f",
   "metadata": {},
   "outputs": [],
   "source": [
    "#Replaceing NaN value as unknown because NaN value does not reflect in SQL table\n",
    "df1['Duration'] = df1['Duration'].fillna(0)"
   ]
  },
  {
   "cell_type": "code",
   "execution_count": 21,
   "id": "0a9f36e1-3b17-41e9-a7a4-3de579c1e6f4",
   "metadata": {},
   "outputs": [
    {
     "data": {
      "text/plain": [
       "Index(['JourneyID', 'CustomerID', 'ProductID', 'VisitDate', 'Stage', 'Action',\n",
       "       'Duration'],\n",
       "      dtype='object')"
      ]
     },
     "execution_count": 21,
     "metadata": {},
     "output_type": "execute_result"
    }
   ],
   "source": [
    "df1.columns"
   ]
  },
  {
   "cell_type": "code",
   "execution_count": 22,
   "id": "da12bdab-866b-40be-8275-ba4a4321d6a3",
   "metadata": {},
   "outputs": [
    {
     "data": {
      "text/plain": [
       "JourneyID       int64\n",
       "CustomerID      int64\n",
       "ProductID       int64\n",
       "VisitDate      object\n",
       "Stage          object\n",
       "Action         object\n",
       "Duration      float64\n",
       "dtype: object"
      ]
     },
     "execution_count": 22,
     "metadata": {},
     "output_type": "execute_result"
    }
   ],
   "source": [
    "df1.dtypes"
   ]
  },
  {
   "cell_type": "code",
   "execution_count": 23,
   "id": "3eba90c4-cec0-480b-95c6-1b95098d99a4",
   "metadata": {},
   "outputs": [],
   "source": [
    "#Change the dtype python into SQL format(using automate)\n",
    "dtype_mapping ={\n",
    "    'int64':'INTEGER',\n",
    "    'float64':'FLOAT',\n",
    "    'object':'TEXT',\n",
    "    'datetime64[ns]':'DATETIME',\n",
    "    'bool':'BOOLEAN'\n",
    "}\n",
    "columns1 = \",\".join(f\"{col} {dtype_mapping[str(dtype)]}\"for col,dtype in zip(df1.columns,df1.dtypes))\n",
    "columns2 = \",\".join(f\"{col} {dtype_mapping[str(dtype)]}\"for col,dtype in zip(df2.columns,df2.dtypes))\n",
    "columns3 = \",\".join(f\"{col} {dtype_mapping[str(dtype)]}\"for col,dtype in zip(df3.columns,df3.dtypes))\n",
    "columns4 = \",\".join(f\"{col} {dtype_mapping[str(dtype)]}\"for col,dtype in zip(df4.columns,df4.dtypes))\n",
    "columns5 = \",\".join(f\"{col} {dtype_mapping[str(dtype)]}\"for col,dtype in zip(df5.columns,df5.dtypes))\n",
    "columns6 = \",\".join(f\"{col} {dtype_mapping[str(dtype)]}\"for col,dtype in zip(df6.columns,df6.dtypes))"
   ]
  },
  {
   "cell_type": "code",
   "execution_count": 16,
   "id": "efd951db-5d06-44e9-ad1b-c457f9b26595",
   "metadata": {},
   "outputs": [
    {
     "data": {
      "text/plain": [
       "0"
      ]
     },
     "execution_count": 16,
     "metadata": {},
     "output_type": "execute_result"
    }
   ],
   "source": [
    "#creating a table in SQL\n",
    "myconnection.cursor().execute(f\"create table project_guvi.customer_journey({columns1})\")\n",
    "myconnection.cursor().execute(f\"create table project_guvi.customer_reviews({columns2})\")\n",
    "myconnection.cursor().execute(f\"create table project_guvi.customers({columns3})\")\n",
    "myconnection.cursor().execute(f\"create table project_guvi.engagement_data({columns4})\")\n",
    "myconnection.cursor().execute(f\"create table project_guvi.geography({columns5})\")\n",
    "myconnection.cursor().execute(f\"create table project_guvi.products({columns6})\")"
   ]
  },
  {
   "cell_type": "code",
   "execution_count": 25,
   "id": "e599e32b-5b6f-4bf9-a945-83f32eca71ba",
   "metadata": {},
   "outputs": [],
   "source": [
    "##Inserting values into tables\n",
    "for i in range(0,len(df1)):\n",
    "   myconnection.cursor().execute(f\"insert into project_guvi.customer_journey values {tuple(df1.iloc[i])}\")\n",
    "   myconnection.commit()\n",
    "for i in range(0,len(df2)):\n",
    "   myconnection.cursor().execute(f\"insert into project_guvi.customer_reviews values {tuple(df2.iloc[i])}\")\n",
    "   myconnection.commit()\n",
    "for i in range(0,len(df3)):\n",
    "   myconnection.cursor().execute(f\"insert into project_guvi.customers values {tuple(df3.iloc[i])}\")\n",
    "   myconnection.commit()\n",
    "for i in range(0,len(df4)):\n",
    "   myconnection.cursor().execute(f\"insert into project_guvi.engagement_data values {tuple(df4.iloc[i])}\")\n",
    "   myconnection.commit()\n",
    "for i in range(0,len(df5)):\n",
    "   myconnection.cursor().execute(f\"insert into project_guvi.geography values {tuple(df5.iloc[i])}\")\n",
    "   myconnection.commit()\n",
    "for i in range(0,len(df6)):\n",
    "   myconnection.cursor().execute(f\"insert into project_guvi.products values {tuple(df6.iloc[i])}\")\n",
    "   myconnection.commit()"
   ]
  }
 ],
 "metadata": {
  "kernelspec": {
   "display_name": "Python 3 (ipykernel)",
   "language": "python",
   "name": "python3"
  },
  "language_info": {
   "codemirror_mode": {
    "name": "ipython",
    "version": 3
   },
   "file_extension": ".py",
   "mimetype": "text/x-python",
   "name": "python",
   "nbconvert_exporter": "python",
   "pygments_lexer": "ipython3",
   "version": "3.12.7"
  }
 },
 "nbformat": 4,
 "nbformat_minor": 5
}
